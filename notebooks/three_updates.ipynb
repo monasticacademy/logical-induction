{
 "cells": [
  {
   "cell_type": "markdown",
   "id": "663d44bb",
   "metadata": {},
   "source": [
    "## Install the logicalinduction package"
   ]
  },
  {
   "cell_type": "code",
   "execution_count": 1,
   "id": "e6f23861",
   "metadata": {},
   "outputs": [
    {
     "name": "stdout",
     "output_type": "stream",
     "text": [
      "Requirement already satisfied: logicalinduction in /home/alex/code/miniconda3/envs/tf/lib/python3.9/site-packages (0.1.4)\r\n"
     ]
    }
   ],
   "source": [
    "!pip install logicalinduction"
   ]
  },
  {
   "cell_type": "markdown",
   "id": "09fdcdbc",
   "metadata": {},
   "source": [
    "**Important: now click \"Restart\" from the \"Kernel\" menu at the top.**"
   ]
  },
  {
   "cell_type": "markdown",
   "id": "89737f89",
   "metadata": {},
   "source": [
    "## Import packages"
   ]
  },
  {
   "cell_type": "code",
   "execution_count": 2,
   "id": "ee691b53",
   "metadata": {},
   "outputs": [],
   "source": [
    "import itertools\n",
    "import numpy as np\n",
    "import matplotlib.pyplot as plt\n",
    "import logicalinduction as li"
   ]
  },
  {
   "cell_type": "markdown",
   "id": "4baf282f",
   "metadata": {},
   "source": [
    "## In the code below we will work with these 3 sentences:"
   ]
  },
  {
   "cell_type": "code",
   "execution_count": 3,
   "id": "a03b5a2f",
   "metadata": {},
   "outputs": [],
   "source": [
    "sentence1 = li.Atom(\"socrates is a man\")\n",
    "sentence2 = li.Atom(\"socrates is mortal\")\n",
    "sentence3 = li.Implication(sentence1, sentence2)"
   ]
  },
  {
   "cell_type": "markdown",
   "id": "c698e38f",
   "metadata": {},
   "source": [
    "## First we create a helper function that builds trading formulas\n",
    "\n",
    "This helper returns trading formulas that \"buy\" whenever the price (credence) for a sentence is below a certain threashold p."
   ]
  },
  {
   "cell_type": "code",
   "execution_count": null,
   "id": "fbe62c17",
   "metadata": {},
   "outputs": [],
   "source": [
    "def trade_on_probability(sentence, index, p, slope=10):\n",
    "    return li.Min(\n",
    "        li.Constant(1),\n",
    "        li.Max(\n",
    "            li.Constant(-1),\n",
    "            li.Sum(\n",
    "                li.Constant(slope * p),\n",
    "                li.Product(\n",
    "                    li.Constant(-slope),\n",
    "                    li.Price(sentence, index)\n",
    "                )\n",
    "            )\n",
    "        )\n",
    "    )"
   ]
  },
  {
   "cell_type": "markdown",
   "id": "c9a3cbf5",
   "metadata": {},
   "source": [
    "## Let's plot the quantity traded by this formula as a function of price"
   ]
  },
  {
   "cell_type": "code",
   "execution_count": 5,
   "id": "b71b1092",
   "metadata": {},
   "outputs": [
    {
     "data": {
      "text/plain": [
       "[<matplotlib.lines.Line2D at 0x7f38feb3d9a0>]"
      ]
     },
     "execution_count": 5,
     "metadata": {},
     "output_type": "execute_result"
    },
    {
     "data": {
      "image/png": "[encoded data removed]",
      "text/plain": [
       "<Figure size 640x480 with 1 Axes>"
      ]
     },
     "metadata": {},
     "output_type": "display_data"
    }
   ],
   "source": [
    "f = trade_on_probability(sentence1, 1, .8)\n",
    "credences = np.linspace(0, 1, 30)\n",
    "purchase_quantities = [f.evaluate(li.History([{sentence1: cr}])) for cr in credences]\n",
    "\n",
    "plt.xlabel('price (credence)')\n",
    "plt.ylabel('quantity')\n",
    "plt.plot(credences, purchase_quantities)"
   ]
  },
  {
   "cell_type": "markdown",
   "id": "7f0e71f5",
   "metadata": {},
   "source": [
    "As you can see, this trading formula says to purchase 1 token of sentence1 whenever that sentence's price, or credence, is below 0.8, or zero tokens if the price is above 0.8. Actually there is a region just around 0.8 where the quantity move linearly from 1 down to 0 -- this is actually very important."
   ]
  },
  {
   "cell_type": "markdown",
   "id": "189d86fc",
   "metadata": {},
   "source": [
    "## Now we define a trading algorithm\n",
    "\n",
    "A trading algorithm is a generator of trading policies, which are maps from sentences to trading formulas"
   ]
  },
  {
   "cell_type": "code",
   "execution_count": 6,
   "id": "62228c92",
   "metadata": {},
   "outputs": [],
   "source": [
    "def trading_alg(sentence, probability):\n",
    "    count = 1\n",
    "    while True:\n",
    "        yield {sentence: trade_on_probability(sentence, count, probability)}\n",
    "        count += 1"
   ]
  },
  {
   "cell_type": "markdown",
   "id": "319615c7",
   "metadata": {},
   "source": [
    "## Create a logical inductor and perform two updates"
   ]
  },
  {
   "cell_type": "code",
   "execution_count": 7,
   "id": "aee99d48",
   "metadata": {
    "scrolled": true
   },
   "outputs": [
    {
     "name": "stdout",
     "output_type": "stream",
     "text": [
      "after first update:\n",
      "  credence for \"socrates is a man\"\" is 0\n",
      "  credence for \"socrates is a man → socrates is mortal\"\" is 0\n",
      "after second update:\n",
      "  credence for \"socrates is a man\"\" is 0\n",
      "  credence for \"socrates is a man → socrates is mortal\"\" is 1\n",
      "after third update:\n",
      "  credence for \"socrates is a man\"\" is 0\n",
      "  credence for \"socrates is a man → socrates is mortal\"\" is 1\n"
     ]
    }
   ],
   "source": [
    "inductor = li.LogicalInductor()\n",
    "\n",
    "first_credences = inductor.update(sentence3, trading_alg(sentence3, .5))\n",
    "\n",
    "print(\"after first update:\")\n",
    "for sentence, credence in first_credences.items():\n",
    "    print(f'  credence for \"{sentence}\" is {credence}')\n",
    "\n",
    "second_credences = inductor.update(sentence2, trading_alg(sentence3, .5))\n",
    "\n",
    "print(\"after second update:\")\n",
    "for sentence, credence in second_credences.items():\n",
    "    print(f'  credence for \"{sentence}\" is {credence}')\n",
    "\n",
    "third_credences = inductor.update(sentence1, trading_alg(sentence3, .5))\n",
    "\n",
    "print(\"after third update:\")\n",
    "for sentence, credence in third_credences.items():\n",
    "    print(f'  credence for \"{sentence}\" is {credence}')"
   ]
  },
  {
   "cell_type": "markdown",
   "id": "c1af3fef",
   "metadata": {},
   "source": [
    "That's it! The rest of this notebook will explore the inner workings of the update function used above."
   ]
  },
  {
   "cell_type": "markdown",
   "id": "2c4fa70d",
   "metadata": {},
   "source": [
    "## Let's look at the inner workings of the logical induction algorithm\n",
    "\n",
    "First we will get a concrete trading algorithm and pull out the trading policy it uses on the first update."
   ]
  },
  {
   "cell_type": "code",
   "execution_count": 8,
   "id": "996cbca7",
   "metadata": {},
   "outputs": [],
   "source": [
    "the_trading_alg = trading_alg(sentence1, .8)"
   ]
  },
  {
   "cell_type": "code",
   "execution_count": 9,
   "id": "cc6d6864",
   "metadata": {},
   "outputs": [],
   "source": [
    "first_trading_policy = next(the_trading_alg)"
   ]
  },
  {
   "cell_type": "markdown",
   "id": "c8c1bad4",
   "metadata": {},
   "source": [
    "## Now we solve for our a belief state where this trading policty makes very few trades\n",
    "\n",
    "We are going to find a set of credences that are not exploited by `first_trading_policy`. The logic for solving for credences is implemented in the library function `li.find_credences`. For this example will use an empty belief history, just as if this was our very first update ever."
   ]
  },
  {
   "cell_type": "code",
   "execution_count": 10,
   "id": "9fe8d503",
   "metadata": {},
   "outputs": [
    {
     "data": {
      "text/plain": [
       "{socrates is a man: Fraction(4, 5)}"
      ]
     },
     "execution_count": 10,
     "metadata": {},
     "output_type": "execute_result"
    }
   ],
   "source": [
    "history = li.History()   # empty history\n",
    "credences = li.find_credences(first_trading_policy, history, tolerance=.01)\n",
    "credences"
   ]
  },
  {
   "cell_type": "markdown",
   "id": "eab9ae0b",
   "metadata": {},
   "source": [
    "We just solved for our first belief state. This belief state contains only one sentence because our trading policy `first_trading_policy` only trades on one sentence. We can check the quantity traded by our trading policy on the belief state we found:"
   ]
  },
  {
   "cell_type": "code",
   "execution_count": 11,
   "id": "7c62e617",
   "metadata": {},
   "outputs": [
    {
     "name": "stdout",
     "output_type": "stream",
     "text": [
      "quantity traded is 0.0\n"
     ]
    }
   ],
   "source": [
    "updated_history = history.with_next_update(credences)\n",
    "quantity = first_trading_policy[sentence1].evaluate(updated_history)\n",
    "print('quantity traded is', quantity)"
   ]
  },
  {
   "cell_type": "markdown",
   "id": "19af80f3",
   "metadata": {},
   "source": [
    "In this case our trading policy traded exactly zero, but any quantity less than the tolerance passed to `find_credences` would have been acceptable."
   ]
  },
  {
   "cell_type": "markdown",
   "id": "6435271b",
   "metadata": {},
   "source": [
    "## Plot the space over which `find_credences` searches\n",
    "\n",
    "To get some insight into how `li.find_credences` works, let us plot the landscape over which it searches. It is looking for a belief state such that the maximum value-of-holdings for the given trading policy is close to zero. "
   ]
  },
  {
   "cell_type": "code",
   "execution_count": 12,
   "id": "ea2619bc",
   "metadata": {},
   "outputs": [],
   "source": [
    "def value_of_holdings_landscape(trading_policy, credence_history, x_sentence, y_sentence):\n",
    "    min_possible = np.zeros((20, 20))\n",
    "    max_possible = np.zeros((20, 20))\n",
    "    for i, x in enumerate(np.linspace(0, 1, 20)):\n",
    "        for j, y in enumerate(np.linspace(0, 1, 20)):\n",
    "            credences = {x_sentence: x, y_sentence: y}\n",
    "            history = credence_history.with_next_update(credences)\n",
    "\n",
    "            # check all possible worlds (all possible truth values for the support sentences)\n",
    "            possible_values = []\n",
    "            for truth_values in itertools.product([0, 1], repeat=2):\n",
    "                world = {sentence1: truth_values[0], sentence2: truth_values[1]}\n",
    "                value_of_holdings = li.evaluate(trading_policy, history, world)\n",
    "                possible_values.append(value_of_holdings)\n",
    "\n",
    "            min_possible[j,i] = min(possible_values)\n",
    "            max_possible[j,i] = max(possible_values)\n",
    "\n",
    "    return min_possible, max_possible\n",
    "\n",
    "_, max_landscape = value_of_holdings_landscape(first_trading_policy, history, sentence1, sentence2)"
   ]
  },
  {
   "cell_type": "code",
   "execution_count": 13,
   "id": "4bd4989e",
   "metadata": {},
   "outputs": [
    {
     "data": {
      "image/png": "[encoded data removed]",
      "text/plain": [
       "<Figure size 640x480 with 2 Axes>"
      ]
     },
     "metadata": {},
     "output_type": "display_data"
    }
   ],
   "source": [
    "plt.imshow(max_landscape, extent=(0, 1, 0, 1), vmin=0, vmax=1)\n",
    "plt.xlabel(sentence1)\n",
    "plt.ylabel(sentence2)\n",
    "plt.colorbar()\n",
    "plt.show()"
   ]
  },
  {
   "cell_type": "markdown",
   "id": "9dc9e44d",
   "metadata": {},
   "source": [
    "So we can see that this function has a local minimum when the credences for \"socrates is a man\" is 0.8, and as expected this function does not depend at all on the credence for \"socrates is mortal\""
   ]
  },
  {
   "cell_type": "markdown",
   "id": "f05a2123",
   "metadata": {},
   "source": [
    "## Compute a budget factor\n",
    "\n",
    "To demonstrate the inner workings of the logical induction algorith, let's look at the structure of a budget factor. Here is the formula from our one-sentence trading policy as a syntax tree:"
   ]
  },
  {
   "cell_type": "code",
   "execution_count": 14,
   "id": "1c3d45cf",
   "metadata": {},
   "outputs": [
    {
     "name": "stdout",
     "output_type": "stream",
     "text": [
      "Min\n",
      ". Constant(1)\n",
      ". Max\n",
      ". . Constant(-1)\n",
      ". . Sum\n",
      ". . . Constant(8.0)\n",
      ". . . Product\n",
      ". . . . Constant(-10)\n",
      ". . . . Price(socrates is a man, 1)\n"
     ]
    }
   ],
   "source": [
    "print(first_trading_policy[sentence1].tree())"
   ]
  },
  {
   "cell_type": "markdown",
   "id": "396559f3",
   "metadata": {},
   "source": [
    "Now let's compute a budget factor and print it as a syntax tree."
   ]
  },
  {
   "cell_type": "code",
   "execution_count": 15,
   "id": "f6d7d652",
   "metadata": {},
   "outputs": [
    {
     "name": "stdout",
     "output_type": "stream",
     "text": [
      "SafeReciprocal\n",
      ". Max\n",
      ". . Product\n",
      ". . . Constant(0.5)\n",
      ". . . Product\n",
      ". . . . Constant(-1)\n",
      ". . . . Sum\n",
      ". . . . . Product\n",
      ". . . . . . Min\n",
      ". . . . . . . Constant(1)\n",
      ". . . . . . . Max\n",
      ". . . . . . . . Constant(-1)\n",
      ". . . . . . . . Sum\n",
      ". . . . . . . . . Constant(8.0)\n",
      ". . . . . . . . . Product\n",
      ". . . . . . . . . . Constant(-10)\n",
      ". . . . . . . . . . Price(socrates is a man, 1)\n",
      ". . . . . . Sum\n",
      ". . . . . . . Constant(1.0)\n",
      ". . . . . . . Product\n",
      ". . . . . . . . Constant(-1)\n",
      ". . . . . . . . Price(socrates is a man, 1)\n"
     ]
    }
   ],
   "source": [
    "budget_factor = li.compute_budget_factor(\n",
    "    budget=2,\n",
    "    observation_history=[],\n",
    "    next_observation=sentence1,\n",
    "    trading_history=[],\n",
    "    next_trading_policy=first_trading_policy,\n",
    "    credence_history=history)\n",
    "\n",
    "print(budget_factor.tree())"
   ]
  }
 ],
 "metadata": {
  "kernelspec": {
   "display_name": "Python 3 (ipykernel)",
   "language": "python",
   "name": "python3"
  },
  "language_info": {
   "codemirror_mode": {
    "name": "ipython",
    "version": 3
   },
   "file_extension": ".py",
   "mimetype": "text/x-python",
   "name": "python",
   "nbconvert_exporter": "python",
   "pygments_lexer": "ipython3",
   "version": "3.9.7"
  }
 },
 "nbformat": 4,
 "nbformat_minor": 5
}
